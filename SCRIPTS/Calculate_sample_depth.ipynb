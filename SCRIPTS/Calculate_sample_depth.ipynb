{
 "cells": [
  {
   "cell_type": "code",
   "execution_count": 1,
   "metadata": {},
   "outputs": [],
   "source": [
    "## Bring in needed mods\n",
    "import glob\n",
    "\n",
    "## Set file to drop\n",
    "## We do not have the matching file for this samples\n",
    "drop_file = '../FASTQ/JW-S1_S1_L001_R2_001.fastq.gz'\n",
    "\n",
    "## Load in fastq file names\n",
    "file_paths_r1 = sorted(glob.glob('../FASTQ/*R1*.fastq.gz'))\n",
    "file_paths_r2 = sorted([a for a in glob.glob('../FASTQ/*R2*.fastq.gz') if a != drop_file])\n",
    "\n",
    "## Set referance path\n",
    "refpath = '../REFERENCE/XL280_NP_NUCLEAR_FINAL_July2020.fasta'"
   ]
  },
  {
   "cell_type": "code",
   "execution_count": 2,
   "metadata": {},
   "outputs": [],
   "source": [
    "## Initate line\n",
    "lines = []\n",
    "\n",
    "## Append mkdir commands\n",
    "lines.append('mkdir -p ../BAMS\\nmkdir -p ../DATA\\n\\n')\n",
    "\n",
    "## index the reference file\n",
    "lines.append('bwa index ../REFERENCE/XL280_NP_NUCLEAR_FINAL_July2020.fasta\\n\\n')\n",
    "\n",
    "## Iterate thru R1 path\n",
    "for f1 in file_paths_r1:\n",
    "\n",
    "    ## Set path to R2\n",
    "    f2 = 'R2'.join(f1.split('R1'))\n",
    " \n",
    "    ## Check work\n",
    "    assert f2 in file_paths_r2, 'Missing fastq file: %s'%f2\n",
    "\n",
    "    ## Set the out bam name and path\n",
    "    outbam =  '../BAMS/'+f1.split('/')[-1].split('R1')[0]+'.bam'\n",
    "\n",
    "    ## Write a the bwa command\n",
    "    bwaline = 'bwa mem -a -M %s %s %s | samtools view -b | samtools sort -o %s\\n\\nsamtools index %s\\n\\n\\n'%(refpath,f1,f2,outbam,outbam)\n",
    " \n",
    "    ## Append the bwa line\n",
    "    lines.append(bwaline)\n",
    "    \n",
    "## Append bam listing to file\n",
    "lines.append('ls -d \"$PWD\"/../BAMS/*.bam > ../DATA/bamlist.txt\\n\\n')\n",
    "\n",
    "## Append sam tools command\n",
    "lines.append('samtools depth -f ../DATA/bamlist.txt > ../DATA/SampleDepths.tsv\\ngzip ../DATA/SampleDepths.tsv\\n\\n')\n",
    "\n",
    "## Open file for writting bwa file too\n",
    "fout = open('./bwa_XL280np.sh','w')\n",
    "\n",
    "## Write to file, and close the file.\n",
    "fout.writelines(lines);fout.close()"
   ]
  }
 ],
 "metadata": {
  "kernelspec": {
   "display_name": "Python 3",
   "language": "python",
   "name": "python3"
  },
  "language_info": {
   "codemirror_mode": {
    "name": "ipython",
    "version": 3
   },
   "file_extension": ".py",
   "mimetype": "text/x-python",
   "name": "python",
   "nbconvert_exporter": "python",
   "pygments_lexer": "ipython3",
   "version": "3.7.3"
  }
 },
 "nbformat": 4,
 "nbformat_minor": 4
}
