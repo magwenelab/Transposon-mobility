{
 "cells": [
  {
   "cell_type": "code",
   "execution_count": 1,
   "metadata": {},
   "outputs": [],
   "source": [
    "## Bring in needed mods\n",
    "import glob"
   ]
  },
  {
   "cell_type": "code",
   "execution_count": 2,
   "metadata": {},
   "outputs": [],
   "source": [
    "## Set file to drop\n",
    "## We do not have the matching file for this samples\n",
    "drop_file = '../FASTQ/JW-S1_S1_L001_R2_001.fastq.gz' "
   ]
  },
  {
   "cell_type": "code",
   "execution_count": 3,
   "metadata": {},
   "outputs": [],
   "source": [
    "## Load in fastq file names\n",
    "file_paths_r1 = sorted(glob.glob('../FASTQ/*R1*.fastq.gz'))\n",
    "file_paths_r2 = sorted([a for a in glob.glob('../FASTQ/*R2*.fastq.gz') if a != drop_file])"
   ]
  },
  {
   "cell_type": "code",
   "execution_count": 4,
   "metadata": {},
   "outputs": [],
   "source": [
    "## Set referance path\n",
    "refpath = '../REFERENCE/XL280_NP_NUCLEAR_FINAL_July2020.fasta'"
   ]
  },
  {
   "cell_type": "code",
   "execution_count": 5,
   "metadata": {},
   "outputs": [
    {
     "name": "stderr",
     "output_type": "stream",
     "text": [
      "[bwa_index] Pack FASTA... 0.11 sec\n",
      "[bwa_index] Construct BWT for the packed sequence...\n",
      "[bwa_index] 9.23 seconds elapse.\n",
      "[bwa_index] Update BWT... 0.10 sec\n",
      "[bwa_index] Pack forward-only FASTA... 0.06 sec\n",
      "[bwa_index] Construct SA from BWT and Occ... 4.04 sec\n",
      "[main] Version: 0.7.17-r1188\n",
      "[main] CMD: bwa index ../REFERENCE/XL280_NP_NUCLEAR_FINAL_July2020.fasta\n",
      "[main] Real time: 14.893 sec; CPU: 13.554 sec\n"
     ]
    }
   ],
   "source": [
    "%%bash\n",
    "\n",
    "## Index the fasta file\n",
    "bwa index ../REFERENCE/XL280_NP_NUCLEAR_FINAL_July2020.fasta"
   ]
  },
  {
   "cell_type": "code",
   "execution_count": 6,
   "metadata": {},
   "outputs": [],
   "source": [
    "## Initate line\n",
    "lines = []\n",
    "\n",
    "## Iterate thru R1 path\n",
    "for f1 in file_paths_r1:\n",
    "    \n",
    "    ## Set path to R2\n",
    "    f2 = 'R2'.join(f1.split('R1'))\n",
    "    \n",
    "    ## Check work\n",
    "    assert f2 in file_paths_r2, \"Missing fastq file: %s\"%f2\n",
    "    \n",
    "    ## Set the out bam name and path\n",
    "    outbam =  '../BAMS/'+f1.split('/')[-1].split('R1')[0]+'.bam'\n",
    "    \n",
    "    ## Write a the bwa command\n",
    "    bwaline = 'bwa mem -a -M %s %s %s | samtools view -b | samtools sort -o %s\\nsamtools index %s\\n\\n'%(refpath,f1,f2,outbam,outbam)\n",
    "\n",
    "    ## Append the bwa line\n",
    "    lines.append(bwaline)\n",
    "    \n",
    "## Open file for writting bwa file too\n",
    "fout = open('./bwa_XL280np.sh','w')\n",
    "    \n",
    "## Write to file, and close the file\n",
    "fout.writelines(lines);fout.close()"
   ]
  },
  {
   "cell_type": "code",
   "execution_count": null,
   "metadata": {},
   "outputs": [],
   "source": [
    "%%bash\n",
    "\n",
    "## Make the bams dir\n",
    "mkdir -p ../BAMS\n",
    "\n",
    "## Run our bwa commands\n",
    "bash bwa_XL280np.sh"
   ]
  },
  {
   "cell_type": "code",
   "execution_count": 11,
   "metadata": {},
   "outputs": [
    {
     "data": {
      "text/plain": [
       "3"
      ]
     },
     "execution_count": 11,
     "metadata": {},
     "output_type": "execute_result"
    }
   ],
   "source": [
    "## Gather the bam files\n",
    "bams = sorted(glob.glob('../BAMS/*.bam'))\n",
    "\n",
    "## Print the length\n",
    "len(bams)"
   ]
  },
  {
   "cell_type": "code",
   "execution_count": 12,
   "metadata": {},
   "outputs": [],
   "source": [
    "## Make a list of the bam files for analysis\n",
    "## Initate list\n",
    "depthlines = []\n",
    "\n",
    "## Iterate thrut he bam files and append\n",
    "for b in bams:\n",
    "    depthlines.append(b+'\\n')\n",
    "\n",
    "## Open depth file to write\n",
    "depthfile = open('../DATA/bamlist.txt','w')\n",
    "    \n",
    "## Write the lines then close\n",
    "depthfile.writelines(depthlines);depthfile.close();"
   ]
  },
  {
   "cell_type": "code",
   "execution_count": 13,
   "metadata": {},
   "outputs": [],
   "source": [
    "%%bash\n",
    "\n",
    "## Call samtools depth ftn\n",
    "samtools depth -f ../DATA/bamlist.txt > ../DATA/SampleDepths.tsv"
   ]
  },
  {
   "cell_type": "code",
   "execution_count": 14,
   "metadata": {},
   "outputs": [],
   "source": [
    "%%bash\n",
    "\n",
    "## Gzip the file\n",
    "gzip ../DATA/SampleDepths.tsv"
   ]
  }
 ],
 "metadata": {
  "kernelspec": {
   "display_name": "Python 3",
   "language": "python",
   "name": "python3"
  },
  "language_info": {
   "codemirror_mode": {
    "name": "ipython",
    "version": 3
   },
   "file_extension": ".py",
   "mimetype": "text/x-python",
   "name": "python",
   "nbconvert_exporter": "python",
   "pygments_lexer": "ipython3",
   "version": "3.7.3"
  }
 },
 "nbformat": 4,
 "nbformat_minor": 4
}
