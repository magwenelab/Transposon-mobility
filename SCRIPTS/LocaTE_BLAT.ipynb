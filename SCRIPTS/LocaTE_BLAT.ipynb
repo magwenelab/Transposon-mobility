{
 "cells": [
  {
   "cell_type": "code",
   "execution_count": 1,
   "metadata": {},
   "outputs": [],
   "source": [
    "## Load in needed mods\n",
    "import glob, numpy as np, os\n",
    "\n",
    "## Load library of costom ftns\n",
    "import transposonmobility as tmi"
   ]
  },
  {
   "cell_type": "code",
   "execution_count": 2,
   "metadata": {},
   "outputs": [],
   "source": [
    "## List file we are missing\n",
    "## We do not have the matching R1 file for this samples\n",
    "drop_file = '../FASTQ/JW-S1_S1_L001_R2_001.fastq.gz' \n",
    "\n",
    "## Set the referenced to be analyzed\n",
    "xl280_reference = '../REFERENCE/XL280_NP_NUCLEAR_FINAL_July2020.fasta'\n",
    "\n",
    "## Set the TE(s) to be analyzed\n",
    "tenames = ['T1','T2','Tcn12','CNL1']\n",
    "\n",
    "## Set the paths to the TE to be analyzed\n",
    "te_paths = ['../ELEMENTS/%s.fasta'%te for te in tenames]\n",
    "\n",
    "## Check our work\n",
    "for te in te_paths:\n",
    "    assert os.path.exists(te), \"Missing file: %s\"%te"
   ]
  },
  {
   "cell_type": "code",
   "execution_count": 3,
   "metadata": {},
   "outputs": [
    {
     "data": {
      "text/plain": [
       "6"
      ]
     },
     "execution_count": 3,
     "metadata": {},
     "output_type": "execute_result"
    }
   ],
   "source": [
    "## Gather fastq files\n",
    "## Reads are not stored on this git but\n",
    "## may be found on SRA under BioProject: PRJNA794155\n",
    "## with SRA accession numbers: SRR17430287 -- SRR17430309\n",
    "fastqs =  [a for a in sorted(glob.glob('../FASTQ/JW*.fastq.gz')) if a != drop_file]\n",
    "\n",
    "## Print length of fastqs\n",
    "## For testing, this output will be 6, but should be near 182 for the full set of files\n",
    "len(fastqs)"
   ]
  },
  {
   "cell_type": "code",
   "execution_count": 4,
   "metadata": {},
   "outputs": [
    {
     "data": {
      "text/plain": [
       "[('../FASTQ/JW-S1_S1_L002_R1_001.fastq.gz',\n",
       "  '../FASTQ/JW-S1_S1_L002_R2_001.fastq.gz'),\n",
       " ('../FASTQ/JW-S1_S1_L003_R1_001.fastq.gz',\n",
       "  '../FASTQ/JW-S1_S1_L003_R2_001.fastq.gz'),\n",
       " ('../FASTQ/JW-S1_S1_L004_R1_001.fastq.gz',\n",
       "  '../FASTQ/JW-S1_S1_L004_R2_001.fastq.gz')]"
      ]
     },
     "execution_count": 4,
     "metadata": {},
     "output_type": "execute_result"
    }
   ],
   "source": [
    "## Split file names\n",
    "front_file_names = np.unique([a.split('R')[0] for a in fastqs])\n",
    "back_file_names =  np.unique([a.split('R')[1] for a in fastqs])\n",
    "\n",
    "## Set paired file names, check first few files\n",
    "paired_files = [ (a+'R'+back_file_names[0],a+'R'+back_file_names[1]) for a in front_file_names]\n",
    "paired_files[:3] "
   ]
  },
  {
   "cell_type": "code",
   "execution_count": 7,
   "metadata": {},
   "outputs": [],
   "source": [
    "## Blat the TE\n",
    "[[tmi.blatTE(f1,f2,xl280_reference, tepath) for (f1,f2) in paired_files] for tepath in te_paths];"
   ]
  }
 ],
 "metadata": {
  "kernelspec": {
   "display_name": "Python 3",
   "language": "python",
   "name": "python3"
  },
  "language_info": {
   "codemirror_mode": {
    "name": "ipython",
    "version": 3
   },
   "file_extension": ".py",
   "mimetype": "text/x-python",
   "name": "python",
   "nbconvert_exporter": "python",
   "pygments_lexer": "ipython3",
   "version": "3.7.3"
  }
 },
 "nbformat": 4,
 "nbformat_minor": 4
}
